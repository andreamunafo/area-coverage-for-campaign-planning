{
 "cells": [
  {
   "cell_type": "markdown",
   "metadata": {},
   "source": [
    "# Knapsacking the area coverage problem"
   ]
  },
  {
   "cell_type": "markdown",
   "metadata": {},
   "source": [
    "## Introductory remarks "
   ]
  },
  {
   "cell_type": "markdown",
   "metadata": {},
   "source": [
    "This notebook uses `cvxpy`, available from [cvxpy.org]( https://www.cvxpy.org/install/index.html).\n",
    "\n",
    "I have also installed `cvxopt` to make sure all the solvers that come packaged with cvxpy will work on my machine.\n",
    "\n",
    "On my computer all this is available in the conda environment: `csp`\n",
    "\n",
    "Some of this notebook relies on the GLPK_MI solver. This is a special solver designed for IP problems. \n",
    "\n",
    "\n",
    "To install GLPK (in /usr/local/):\n",
    "\n",
    "- Download the latest version of GLPK from the [gnu](http://www.gnu.org/software/glpk/#downloading) website.\n",
    "- `cd ~/Downloads`\n",
    "- `tar -xzf glpk-4.43.tar.gz`\n",
    "- `./configure -prefix=/usr/local`\n",
    "- `make`\n",
    "- `sudo make install`\n",
    "\n",
    "At this point, you should have GLPK installed. \n",
    "To verify run: \n",
    "- `which glpsol`  \n",
    "output: `/usr/local/bin/glpsol`\n",
    "\n",
    "\n",
    "Introduction using GLPK [here](http://www.ibm.com/developerworks/linux/library/l-glpk1)\n",
    "\n",
    "\n",
    "Good introduction to cvxpy is [integer-programming-in-python](https://towardsdatascience.com/integer-programming-in-python-1cbdfa240df2)\n",
    "\n",
    "\n",
    " Before you solve your own problem, consult this table to see which prepackaged cvpxy solver is best suited to your problem."
   ]
  },
  {
   "cell_type": "markdown",
   "metadata": {},
   "source": [
    "# Introduction"
   ]
  },
  {
   "cell_type": "markdown",
   "metadata": {},
   "source": [
    "The achieved maturity of autonomous underwater vehicles (AUVs) makes the deployment of multi-vehicle networks practical and cost-effective.\n",
    "Most scientific and military applications nowdays require the usage of AUVs.\n",
    "From an end user perspective the ability to scale from one asset to multiple vehicles able to coordinate their activities means maximising the benefits.\n",
    "Network of AUVs have a wide range of commercial and military applications ranging from surveillance [[1](https://openlibrary.cmre.nato.int/bitstream/handle/20.500.12489/796/CMRE-PR-2019-056.pdf?sequence=1)] to mine-counter measurement operations or oceanographic systems [[2](https://ieeexplore.ieee.org/document/8729779)].\n",
    "\n",
    "To maximise their operational effectiveness, one critical decision variable that has a direct impact on both the cost and performance, the lies in how to properly place the different sensors in the target environment.\n",
    "\n",
    "The number of sensors, the dedicated communication networks, can contribute a significant portion of the overall cost. \n",
    "The placement of the vehicles determines the overall mission time and the associated coverage area.\n",
    "\n",
    "In fact, one critical weakness of existing systems lies in the ability to plan multi-days, multi-vehicle missions over large areas. \n",
    "The ability to quickly allocate each vehicle to one specific area, to monitor the mission performance, and to understand the quality of the data gathered would represent a key capability to speed up the uptake of the technology even more.\n",
    "\n",
    "In this regard, this work addresses the area coverage problem and aims at providing a solution to efficiently schedule AUV operations over multi-days and large areas."
   ]
  },
  {
   "cell_type": "markdown",
   "metadata": {},
   "source": [
    "# Related work "
   ]
  },
  {
   "cell_type": "code",
   "execution_count": null,
   "metadata": {},
   "outputs": [],
   "source": []
  },
  {
   "cell_type": "code",
   "execution_count": null,
   "metadata": {},
   "outputs": [],
   "source": []
  },
  {
   "cell_type": "code",
   "execution_count": null,
   "metadata": {},
   "outputs": [],
   "source": []
  },
  {
   "cell_type": "code",
   "execution_count": null,
   "metadata": {},
   "outputs": [],
   "source": []
  },
  {
   "cell_type": "markdown",
   "metadata": {},
   "source": [
    "# An approximate solution to the BIP area coverage problem"
   ]
  },
  {
   "cell_type": "markdown",
   "metadata": {},
   "source": [
    "We consider the problem of surveying an area $\\mathcal{A}$, with a fixed maximum number of robots $N$.\n",
    "\n",
    "Each robot $i$ can only work for a specific amount of hours $T_i$, after which it has to go back and recharge its batteries.\n",
    "Each robot is also equipped with a specific sensor $S_i$ that determines its maximum travelling speed $v_{max, i}$ and surveying trajectories. \n",
    "In this way, given a robot with a specific sensor configuration it is possible to calculate the maximum area coverage $A_i$ that the robot can cover in $T_i$ hours.\n",
    "\n",
    "For example, in the case of a robot using a side scan sonar with a swath range $r$ that can travel at the maximum speed $v$, and work for $T$ hours, the maximum area coverage rate is: $A=rTv$.\n",
    "\n"
   ]
  },
  {
   "cell_type": "markdown",
   "metadata": {},
   "source": [
    "Once each robot/sensor $i$ is associated to its maximum coverage area $A_i$, the area coverage problem can be casted as a maximal covering location problem [[3]](maximumal-covering-location-problem) with the objective of maximise coverage within a desired service distance $S$ by locating a fixed number of facilities (the robots).\n",
    "The problem can also be generalised to include area that are to be prioritised. In this case, the priority of each area would correspond to the population covered in the classical formulation.\n",
    "\n",
    "Solving this problem allows to obtain a trade-off curve showing the maximum possible coverage obtainable for given maximum area coverage per each robot and for various number of robots.\n",
    "\n",
    "The maximal covering location problem that finds the maximum population (or area) that can be served within a desired time (or distance), given a limited number of facilities, can be stated as:"
   ]
  },
  {
   "cell_type": "markdown",
   "metadata": {},
   "source": [
    "Maximise $z = \\sum_{i\\in I}{a_iy_i}$,\n",
    "\n",
    "such that:\n",
    "- $\\sum_{j \\in N_i}{x_j \\ge y_i}$, $\\forall i \\in I$   (1)\n",
    "- $\\sum_{j \\in J}{x_j} = P$                    (2)\n",
    "- $x_j =\\{0,1\\}$, $\\forall j \\in J$            (3)\n",
    "- $y_i =\\{0,1\\}$, $\\forall i \\in I$            (4)\n",
    "\n",
    " \n",
    "where  \n",
    "$I$ is the set of demand nodes;  \n",
    "$J$ is the set of robots (or facility sites);  \n",
    "$x_j$ is equal 1, if robot is allocated to site $j$, 0 otherwise;  \n",
    "$N_i = \\{j \\in J | d_{ij} \\le S \\}$, with:    \n",
    "$d_{ij}$ shortest distance from node $i$ to node $j$ and $S$ is the distance beyond which a demand point is considered uncovered (a different $S$ can be chosen for each demand point if desired). So $N_i$ is the set of facilities site that can cover the demand point $i$.   \n",
    "Finally, $a_i$ is the population served at demand node $i$ (or the priority of the demand node $i$ and $p$ is the number of facilities to be located.\n",
    "\n",
    "Note that:\n",
    "\n",
    "Constraints of type (1) allow $y_i$ to equal 1 only when one or more facilities are established at sites in the set $N_i$ (that is, one or more facilities are located within $S$ distance units of demand point $i$). \n",
    "\n",
    "The number of facilities allocated is restricted to equal $p$ in constraint (2).\n",
    "\n",
    "The solution to this problem specifies not only the largest amount of population that can be covered but the $p$ facilities that achieve this maximal coverage.\n",
    "\n",
    "The maximal covering location problem has been solved optimally using linear programming and heuristically using several methods.\n"
   ]
  },
  {
   "cell_type": "markdown",
   "metadata": {},
   "source": [
    "One simple way to solve it is using the Greedy Adding (GA) algorithm. In this case, the algorithm starts with an empty solution set and then adds one at a time the best facility sites. The process continues unitl either $p$ facilities have been selected or all the area (or population) is covered.\n",
    "\n",
    "When $p > 1$ optimality is not guaranteed. It is important to note that the GA algorithm never removes facility sites from the solution set. Therefore, it is possible that a facility site added to the solution set in the early iterations of the algorithm may not be justified later in the algorithm due to subsequent facility site assignments."
   ]
  },
  {
   "cell_type": "markdown",
   "metadata": {},
   "source": [
    "The problem can be solved optimally using linear programming restricting $x_j$ and $y_j$ to be non negative instead of zero or one. In this case, the optimal solution is obtained when all $x$ and $y$ are in fact zero or one (all integer answer), whereas if a fractional answer is obtained, the optimal solution is not feasible."
   ]
  },
  {
   "cell_type": "markdown",
   "metadata": {},
   "source": [
    "## The Knapsack Problem "
   ]
  },
  {
   "cell_type": "markdown",
   "metadata": {},
   "source": [
    "We solve the problem in two steps.\n",
    "First we solve a knapsack problem to select the robots/sensors, second we apply the greedy heuristic algorithm to find the final robot/area allocation."
   ]
  },
  {
   "cell_type": "markdown",
   "metadata": {},
   "source": [
    "Let us remind ourselves what the knapsack is:  \n",
    "Given weights and values of $n$ items, we would like to put these items in a knapsack of capacity $W$ to get the maximum total value in the knapsack. \n",
    "\n",
    "The key to understand this problem is that when an item $i$ weights less than the knapsack's capacity we would like to include it if it increases the maximum value obtainable..\n",
    "The maximum obtainable value by including item $i$ is thus equal to the value of item $i$ itself plus the maximum value that can be obtained with the remaining capacity of the knapsack. \n",
    "Note that this second part is a knapsack subproblem itself where the maximum capacity is that the remains after having added the item $i$.\n",
    "\n",
    "In what follows we use cvxpy to solve it."
   ]
  },
  {
   "cell_type": "code",
   "execution_count": 1,
   "metadata": {},
   "outputs": [],
   "source": [
    "import cvxpy as cvx\n",
    "import numpy as np"
   ]
  },
  {
   "cell_type": "code",
   "execution_count": 2,
   "metadata": {},
   "outputs": [
    {
     "name": "stdout",
     "output_type": "stream",
     "text": [
      "1.0.25\n"
     ]
    }
   ],
   "source": [
    "print(cvx.__version__)"
   ]
  },
  {
   "cell_type": "code",
   "execution_count": 8,
   "metadata": {},
   "outputs": [
    {
     "data": {
      "text/plain": [
       "['CVXOPT', 'ECOS', 'ECOS_BB', 'GLPK', 'GLPK_MI', 'OSQP', 'SCS']"
      ]
     },
     "execution_count": 8,
     "metadata": {},
     "output_type": "execute_result"
    }
   ],
   "source": [
    "cvx.installed_solvers()"
   ]
  },
  {
   "cell_type": "code",
   "execution_count": 9,
   "metadata": {},
   "outputs": [],
   "source": [
    "# The data for the Knapsack problem\n",
    "# P is total weight capacity of sack\n",
    "# weights and utilities are also specified\n",
    "P = 165\n",
    "weights = np.array([23, 31, 29, 44, 53, 38, 63, 85, 89, 82])\n",
    "utilities = np.array([92, 57, 49, 68, 60, 43, 67, 84, 87, 72])\n",
    "\n",
    "# The variable we are solving for\n",
    "selection = cvx.Variable(len(weights), boolean=True)\n",
    "\n",
    "# The sum of the weights should be less than or equal to P\n",
    "weight_constraint = weights * selection <= P\n",
    "\n",
    "# Our total utility is the sum of the item utilities\n",
    "total_utility = utilities * selection"
   ]
  },
  {
   "cell_type": "code",
   "execution_count": 11,
   "metadata": {},
   "outputs": [],
   "source": [
    "# We tell cvxpy that we want to maximize total utility \n",
    "# subject to weight_constraint. All constraints in \n",
    "# cvxpy must be passed as a list\n",
    "knapsack_problem = cvx.Problem(cvx.Maximize(total_utility), [weight_constraint])\n"
   ]
  },
  {
   "cell_type": "code",
   "execution_count": 12,
   "metadata": {},
   "outputs": [
    {
     "data": {
      "text/plain": [
       "309.0"
      ]
     },
     "execution_count": 12,
     "metadata": {},
     "output_type": "execute_result"
    }
   ],
   "source": [
    "# Solving the problem\n",
    "knapsack_problem.solve(solver=cvx.GLPK_MI)"
   ]
  },
  {
   "cell_type": "code",
   "execution_count": 13,
   "metadata": {},
   "outputs": [
    {
     "name": "stdout",
     "output_type": "stream",
     "text": [
      "[1. 1. 1. 1. 0. 1. 0. 0. 0. 0.]\n"
     ]
    }
   ],
   "source": [
    "print(selection.value)"
   ]
  },
  {
   "cell_type": "markdown",
   "metadata": {},
   "source": [
    "# Area assignment"
   ]
  },
  {
   "cell_type": "code",
   "execution_count": 1,
   "metadata": {},
   "outputs": [],
   "source": [
    "%load_ext autoreload\n",
    "%autoreload 2\n",
    "\n",
    "import cvxpy as cvx\n",
    "import numpy as np\n",
    "import utils.utils as u\n",
    "import math as m\n",
    "from matplotlib import pylab as plt"
   ]
  },
  {
   "cell_type": "markdown",
   "metadata": {},
   "source": [
    "## Drawing and preps "
   ]
  },
  {
   "cell_type": "code",
   "execution_count": 6,
   "metadata": {},
   "outputs": [],
   "source": [
    "xmin, xmax, dx = 0, 0.5, .1\n",
    "ymin, ymax, dy = 0, 1, .1"
   ]
  },
  {
   "cell_type": "code",
   "execution_count": 7,
   "metadata": {},
   "outputs": [
    {
     "data": {
      "image/png": "[encoded data removed]",
      "text/plain": [
       "<Figure size 432x288 with 1 Axes>"
      ]
     },
     "metadata": {
      "needs_background": "light"
     },
     "output_type": "display_data"
    }
   ],
   "source": [
    "u.draw_paving(xmin, xmax, dx, ymin, ymax, dy, edgecolor='black', facecolor='green')\n",
    "u.draw_cell(0.25, 0.2, 0.1, 0.1, edgecolor='blue', facecolor='blue')"
   ]
  },
  {
   "cell_type": "code",
   "execution_count": 13,
   "metadata": {},
   "outputs": [
    {
     "data": {
      "image/png": "[encoded data removed]",
      "text/plain": [
       "<Figure size 432x288 with 1 Axes>"
      ]
     },
     "metadata": {
      "needs_background": "light"
     },
     "output_type": "display_data"
    }
   ],
   "source": [
    "rxc_matrix = np.zeros((2, 100))\n",
    "rxc_matrix[0,0] = 1\n",
    "rxc_matrix[1,43] = 1\n",
    "\n",
    "\n",
    "r_colors = ['blue', 'magenta', 'cyan']\n",
    "u.draw_paving(xmin, xmax, dx, ymin, ymax, dy, edgecolor='black', facecolor='green')\n",
    "u.draw_allocation(rxc_matrix, xmin, xmax, dx, ymin, ymax, dy, n_cells=100, n_robots=2, r_colors=r_colors)           "
   ]
  },
  {
   "cell_type": "code",
   "execution_count": 17,
   "metadata": {},
   "outputs": [
    {
     "data": {
      "image/png": "[encoded data removed]",
      "text/plain": [
       "<Figure size 432x288 with 1 Axes>"
      ]
     },
     "metadata": {
      "needs_background": "light"
     },
     "output_type": "display_data"
    }
   ],
   "source": [
    "fig = plt.figure()\n",
    "n_cells = 100\n",
    "u.draw_paving(xmin, xmax, dx, ymin, ymax, dy, edgecolor='black', facecolor='green')\n",
    "for x in np.arange(xmin, xmax, dx):\n",
    "    for y in np.arange(ymin, ymax, dy):\n",
    "        c = u.fromXYToCell(x, y, (xmin, xmax, dx), (ymin, ymax, dy))\n",
    "        x, y = u.fromCellToXY(c, (xmin, xmax, dx), (ymin, ymax, dy))\n",
    "        plt.plot(x, y, marker='.', markersize=12, color='black')\n",
    "        plt.gca().text(x+dx/2, y+dy/2, str(c))"
   ]
  },
  {
   "cell_type": "code",
   "execution_count": 20,
   "metadata": {},
   "outputs": [],
   "source": [
    "def coverageFromXY(x, y, width, length, x_lim, y_lim):\n",
    "    \"\"\"coverageFromXY(x, y, width, length, x_lim, y_lim)\n",
    "        input:\n",
    "          x, y: coordinate of the lower left corner of the coverage area\n",
    "          width, length: width and length of the coverage area\n",
    "          x_lim: (xmin, xmax, dx)\n",
    "          y_lim: (ymin, ymax, dy) \n",
    "        returns:\n",
    "          cells that are covered when the robot is deployed at x, y\n",
    "    \"\"\"    \n",
    "    xmin, xmax, dx = x_lim\n",
    "    ymin, ymax, dy = y_lim    \n",
    "    \n",
    "    assert x >= xmin and x <= xmax\n",
    "    assert y >= ymin and y <= ymax\n",
    "    \n",
    "    cells = []\n",
    "    cells.append(u.fromXYToCell(x, y, x_lim, y_lim))\n",
    "    cells.append(u.fromXYToCell(min(x+width, xmax-dx), y, x_lim, y_lim))\n",
    "    cells.append(u.fromXYToCell(x, min(y+length, ymax-dy), x_lim, y_lim))    \n",
    "    cells.append(u.fromXYToCell(min(x+width, xmax-dx), min(y+length, ymax-dx), x_lim, y_lim))\n",
    "    \n",
    "    return set(cells)"
   ]
  },
  {
   "cell_type": "code",
   "execution_count": 21,
   "metadata": {},
   "outputs": [
    {
     "name": "stdout",
     "output_type": "stream",
     "text": [
      "{3, 4, 13, 14}\n"
     ]
    }
   ],
   "source": [
    "cells = coverageFromXY(x=0.3, y=0.0, width=2*dx, length=2*dy, x_lim=(xmin, xmax, dx), y_lim=(ymin, ymax, dy) )\n",
    "print(cells)"
   ]
  },
  {
   "cell_type": "code",
   "execution_count": 22,
   "metadata": {},
   "outputs": [],
   "source": [
    "def coverageFromCell(c, width, length, rows, columns):\n",
    "    \"\"\"coverageFromCell(c, width, length, x_lim, y_lim)\n",
    "        input:\n",
    "          c: cell number (bottom left point of the coverage area)\n",
    "          width, length: width and length of the coverage area in number of cells\n",
    "          rows, columns: number of rows and columns of the matrix representing the coverage area.\n",
    "        returns:\n",
    "          cells that are covered when the robot is deployed at x, y\n",
    "    \"\"\"  \n",
    "    \n",
    "    n_cells = rows*columns\n",
    "    assert c <= n_cells, f\"cell number {c} must be less than {rows*columns}\"\n",
    "    \n",
    "    coverage_cells = [c]\n",
    "    xcells = list(range(c%columns, min(c%columns+width, columns)))\n",
    "    ycells = list(range(c%columns+columns, length*columns, columns))\n",
    "    \n",
    "    for xc in xcells:\n",
    "        ycells += list(range(xc+columns, length*columns, columns))\n",
    "        \n",
    "    xcells = list(c-c%columns+np.array(xcells))\n",
    "    ycells = list(c-c%columns+np.array(ycells))\n",
    "\n",
    "    coverage_cells+=xcells\n",
    "    coverage_cells+=ycells\n",
    "    \n",
    "    coverage_cells = [c for c in coverage_cells if c < n_cells]\n",
    "    return list(np.unique(coverage_cells))"
   ]
  },
  {
   "cell_type": "code",
   "execution_count": 26,
   "metadata": {},
   "outputs": [
    {
     "name": "stdout",
     "output_type": "stream",
     "text": [
      "coverage: [45, 46, 47]\n"
     ]
    },
    {
     "data": {
      "image/png": "[encoded data removed]",
      "text/plain": [
       "<Figure size 432x288 with 1 Axes>"
      ]
     },
     "metadata": {
      "needs_background": "light"
     },
     "output_type": "display_data"
    }
   ],
   "source": [
    "columns = round((xmax-xmin)/dx)\n",
    "rows    = round((ymax-ymin)/dy)\n",
    "coverage_cells = coverageFromCell(45, width=3, length=2, rows=rows, columns=columns)\n",
    "\n",
    "print(f'coverage: {coverage_cells}')\n",
    "\n",
    "fig = plt.figure()\n",
    "n_cells = 100\n",
    "u.draw_paving(xmin, xmax, dx, ymin, ymax, dy, edgecolor='black', facecolor='green')\n",
    "for c in coverage_cells:\n",
    "        x, y = u.fromCellToXY(c, (xmin, xmax, dx), (ymin, ymax, dy))\n",
    "        u.draw_cell(x, y, dx, dy, edgecolor='blue', facecolor='blue')             "
   ]
  },
  {
   "cell_type": "code",
   "execution_count": 280,
   "metadata": {},
   "outputs": [],
   "source": [
    "def visibilityMatrix(area, sensor):    \n",
    "    rows, columns = area\n",
    "    width, length = sensor\n",
    "    V = np.zeros((rows*columns, rows*columns))\n",
    "    for c in range(rows*columns):\n",
    "        coverage_cells = coverageFromCell(c, width, length, rows=rows, columns=columns)\n",
    "        V[c, coverage_cells] = 1 \n",
    "        \n",
    "    return V\n",
    "\n",
    "\n",
    "get_indexes = lambda x, xs: [i for (y, i) in zip(xs, range(len(xs))) if x == y]"
   ]
  },
  {
   "cell_type": "code",
   "execution_count": 283,
   "metadata": {},
   "outputs": [],
   "source": [
    "xmin, xmax, dx = 0, 0.5, .1\n",
    "ymin, ymax, dy = 0, 1, .1\n",
    "\n",
    "columns = round((xmax-xmin)/dx)\n",
    "rows    = round((ymax-ymin)/dy)\n",
    "area    = (rows, columns)\n",
    "sensor  = (2, 2) # width (x), length (y)\n",
    "\n",
    "V = visibilityMatrix(area, sensor)\n"
   ]
  },
  {
   "cell_type": "code",
   "execution_count": 284,
   "metadata": {},
   "outputs": [
    {
     "data": {
      "image/png": "[encoded data removed]",
      "text/plain": [
       "<Figure size 432x288 with 1 Axes>"
      ]
     },
     "metadata": {
      "needs_background": "light"
     },
     "output_type": "display_data"
    }
   ],
   "source": [
    "# This code checks the visibility matrix and represents the coverage obtained \n",
    "# if the robot is place in one specific cell.\n",
    "\n",
    "cell_number = 2\n",
    "\n",
    "\n",
    "fig = plt.figure()\n",
    "u.draw_paving(xmin, xmax, dx, ymin, ymax, dy, edgecolor='black', facecolor='green')\n",
    "\n",
    "visibility = np.where(V[cell_number,:] == 1)[0]\n",
    "\n",
    "for c in visibility:\n",
    "    x, y = u.fromCellToXY(c, (xmin, xmax, dx), (ymin, ymax, dy))\n",
    "    u.draw_cell(x, y, dx, dy, edgecolor='blue', facecolor='blue') \n",
    "    plt.plot(x, y, marker='.', markersize=12, color='black')\n",
    "    plt.gca().text(x+dx/2, y+dy/2, str(c))"
   ]
  },
  {
   "cell_type": "markdown",
   "metadata": {},
   "source": [
    "## Solving the problem "
   ]
  },
  {
   "cell_type": "code",
   "execution_count": 309,
   "metadata": {},
   "outputs": [
    {
     "name": "stdout",
     "output_type": "stream",
     "text": [
      "Area     : 0.5\n",
      "n.cells  : 50\n",
      "n.robots : 2\n"
     ]
    }
   ],
   "source": [
    "xmin, xmax, dx = 0, 0.5, .1\n",
    "ymin, ymax, dy = 0, 1, .1\n",
    "\n",
    "area_size = (xmax-xmin)*(ymax-ymin)\n",
    "n_cells = round(area_size/(dx*dy))\n",
    "\n",
    "columns = round((xmax-xmin)/dx)\n",
    "rows    = round((ymax-ymin)/dy)\n",
    "area    = (rows, columns)\n",
    "sensor  = (2, 10) # width (x), length (y)\n",
    "n_robots = 2\n",
    "\n",
    "\n",
    "V = visibilityMatrix(area, sensor)\n",
    "\n",
    "print(f'Area     : {area_size}')\n",
    "print(f'n.cells  : {n_cells}')\n",
    "print(f'n.robots : {n_robots}')\n",
    "\n",
    "B = cvx.Variable((n_robots, n_cells), name='B', boolean=True)"
   ]
  },
  {
   "cell_type": "code",
   "execution_count": 310,
   "metadata": {},
   "outputs": [],
   "source": [
    "# a few tests\n",
    "# p_rxc_matrix = cvx.Parameter((n_robots, n_cells), name='p_rxc_matrix', boolean=True)\n",
    "# p_rxc_matrix.value = np.ones((n_robots, n_cells))\n",
    "\n",
    "# print(p_rxc_matrix.value)\n",
    "\n",
    "# print(rxc_matrix[1,:])\n",
    "# print(rxc_matrix.shape)\n",
    "# print(sum(p_rxc_matrix[0,:]).value)\n",
    "# round(mapr[0]*n_cells), round(mapr[1]*n_cells)"
   ]
  },
  {
   "cell_type": "markdown",
   "metadata": {},
   "source": [
    "### Define the constraints"
   ]
  },
  {
   "cell_type": "code",
   "execution_count": 311,
   "metadata": {},
   "outputs": [],
   "source": [
    "constraints = []\n",
    "\n",
    "for i in range(B.shape[0]): # each robot can only be in one cell    \n",
    "    constraints.append(sum(B[i,:]) <= 1)\n",
    "    \n",
    "for i in range(B.shape[1]): # each cell has to be covered only once.\n",
    "    #constraints.append(sum(B[:,i]) <= 1)\n",
    "    constraints.append(sum((B*V)[:,i]) <= 1)"
   ]
  },
  {
   "cell_type": "code",
   "execution_count": 312,
   "metadata": {},
   "outputs": [],
   "source": [
    "# constraints"
   ]
  },
  {
   "cell_type": "markdown",
   "metadata": {},
   "source": [
    "### Define the objective function"
   ]
  },
  {
   "cell_type": "code",
   "execution_count": 313,
   "metadata": {},
   "outputs": [],
   "source": [
    "# Our total utility is the area that we cover\n",
    "total_utility = cvx.sum(B*V)"
   ]
  },
  {
   "cell_type": "code",
   "execution_count": 314,
   "metadata": {},
   "outputs": [
    {
     "data": {
      "text/plain": [
       "Expression(AFFINE, NONNEGATIVE, ())"
      ]
     },
     "execution_count": 314,
     "metadata": {},
     "output_type": "execute_result"
    }
   ],
   "source": [
    "total_utility"
   ]
  },
  {
   "cell_type": "markdown",
   "metadata": {},
   "source": [
    "### Run the solver"
   ]
  },
  {
   "cell_type": "code",
   "execution_count": 315,
   "metadata": {},
   "outputs": [],
   "source": [
    "# We tell cvxpy that we want to maximize total utility \n",
    "# subject to weight_constraint. All constraints in \n",
    "# cvxpy must be passed as a list\n",
    "area_problem = cvx.Problem(cvx.Maximize(total_utility), constraints)"
   ]
  },
  {
   "cell_type": "code",
   "execution_count": 316,
   "metadata": {},
   "outputs": [
    {
     "name": "stdout",
     "output_type": "stream",
     "text": [
      "optimal objective value: 40.0\n"
     ]
    }
   ],
   "source": [
    "# Solving the problem\n",
    "area_problem.solve(solver=cvx.GLPK_MI, qcp=True)\n",
    "#area_problem.solve(solver=cvx.ECOS)\n",
    "print(\"optimal objective value: {}\".format(area_problem.value))"
   ]
  },
  {
   "cell_type": "code",
   "execution_count": 317,
   "metadata": {},
   "outputs": [
    {
     "name": "stdout",
     "output_type": "stream",
     "text": [
      "Solution: \n",
      "[[1. 0. 0. 0. 0. 0. 0. 0. 0. 0. 0. 0. 0. 0. 0. 0. 0. 0. 0. 0. 0. 0. 0. 0.\n",
      "  0. 0. 0. 0. 0. 0. 0. 0. 0. 0. 0. 0. 0. 0. 0. 0. 0. 0. 0. 0. 0. 0. 0. 0.\n",
      "  0. 0.]\n",
      " [0. 0. 1. 0. 0. 0. 0. 0. 0. 0. 0. 0. 0. 0. 0. 0. 0. 0. 0. 0. 0. 0. 0. 0.\n",
      "  0. 0. 0. 0. 0. 0. 0. 0. 0. 0. 0. 0. 0. 0. 0. 0. 0. 0. 0. 0. 0. 0. 0. 0.\n",
      "  0. 0.]]\n",
      "[[1. 1. 0. 0. 0. 1. 1. 0. 0. 0. 1. 1. 0. 0. 0. 1. 1. 0. 0. 0. 1. 1. 0. 0.\n",
      "  0. 1. 1. 0. 0. 0. 1. 1. 0. 0. 0. 1. 1. 0. 0. 0. 1. 1. 0. 0. 0. 1. 1. 0.\n",
      "  0. 0.]\n",
      " [0. 0. 1. 1. 0. 0. 0. 1. 1. 0. 0. 0. 1. 1. 0. 0. 0. 1. 1. 0. 0. 0. 1. 1.\n",
      "  0. 0. 0. 1. 1. 0. 0. 0. 1. 1. 0. 0. 0. 1. 1. 0. 0. 0. 1. 1. 0. 0. 0. 1.\n",
      "  1. 0.]]\n"
     ]
    }
   ],
   "source": [
    "print('Solution: ')\n",
    "print(B.value)\n",
    "print(B.value.dot(V))"
   ]
  },
  {
   "cell_type": "code",
   "execution_count": 318,
   "metadata": {},
   "outputs": [
    {
     "data": {
      "text/plain": [
       "40.0"
      ]
     },
     "execution_count": 318,
     "metadata": {},
     "output_type": "execute_result"
    }
   ],
   "source": [
    "np.sum(np.amax(B.value.dot(V), axis=0))"
   ]
  },
  {
   "cell_type": "code",
   "execution_count": 319,
   "metadata": {},
   "outputs": [
    {
     "data": {
      "image/png": "[encoded data removed]",
      "text/plain": [
       "<Figure size 432x288 with 1 Axes>"
      ]
     },
     "metadata": {
      "needs_background": "light"
     },
     "output_type": "display_data"
    }
   ],
   "source": [
    "r_colors = ['blue', 'magenta', 'cyan']\n",
    "u.draw_paving(xmin, xmax, dx, ymin, ymax, dy, edgecolor='black', facecolor='green')\n",
    "u.draw_allocation(B.value, xmin, xmax, dx, ymin, ymax, dy, n_cells=n_cells, n_robots=n_robots, r_colors=r_colors)"
   ]
  },
  {
   "cell_type": "code",
   "execution_count": 320,
   "metadata": {},
   "outputs": [
    {
     "data": {
      "image/png": "[encoded data removed]",
      "text/plain": [
       "<Figure size 432x288 with 1 Axes>"
      ]
     },
     "metadata": {
      "needs_background": "light"
     },
     "output_type": "display_data"
    }
   ],
   "source": [
    "fig = plt.figure()\n",
    "u.draw_paving(xmin, xmax, dx, ymin, ymax, dy, edgecolor='black', facecolor='green')\n",
    "\n",
    "\n",
    "for idx, cell_number in enumerate(np.where(B.value == 1)[1]):\n",
    "    visibility = np.where(V[cell_number,:] == 1)[0]\n",
    "\n",
    "    for c in visibility:\n",
    "        x, y = u.fromCellToXY(c, (xmin, xmax, dx), (ymin, ymax, dy))\n",
    "        u.draw_cell(x, y, dx, dy, edgecolor=r_colors[idx], facecolor=r_colors[idx]) \n",
    "        plt.plot(x, y, marker='.', markersize=12, color='black')\n",
    "        plt.gca().text(x+dx/2, y+dy/2, str(c))"
   ]
  },
  {
   "cell_type": "markdown",
   "metadata": {},
   "source": [
    "# Greedy algorithm"
   ]
  },
  {
   "cell_type": "code",
   "execution_count": 342,
   "metadata": {},
   "outputs": [],
   "source": [
    "n_robots = 3\n",
    "robot_area_coverage = [[4, 4, 0],  # width, length, rotation\n",
    "                       [5, 3, 0],\n",
    "                       [1, 2, 0]]\n",
    "\n",
    "\n",
    "xmin, xmax, dx = 0, 1., 0.2\n",
    "ymin, ymax, dy = 0, 1., 0.2\n",
    "\n",
    "Area = (xmax-xmin)*(ymax-ymin)\n",
    "n_cells = round(Area/(dx*dy))\n",
    "n_cells_x = round((xmax-xmin)/dx)\n",
    "n_cells_y = round((ymax-ymin)/dy)"
   ]
  },
  {
   "cell_type": "markdown",
   "metadata": {},
   "source": [
    "## Finds the (sub)optimal allocation"
   ]
  },
  {
   "cell_type": "code",
   "execution_count": 343,
   "metadata": {},
   "outputs": [],
   "source": [
    "def find_solution(n_robots, n_cells, robot_area_coverage):\n",
    "    coverage = []\n",
    "    cells = []\n",
    "    rxc_matrix = np.zeros(n_cells)\n",
    "    max_robot_area_coverage_value = 0\n",
    "\n",
    "    for r in range(n_robots):\n",
    "        min_intersection = list(range(n_cells)) # max number\n",
    "        width=robot_area_coverage[r][0]\n",
    "        length=robot_area_coverage[r][1]\n",
    "        max_area_this_robot = width*length\n",
    "        current_area_this_robot = 0\n",
    "\n",
    "        for c in range(n_cells):\n",
    "            coverage_cells = coverageFromCell(c, width=width, length=length, rows=n_cells_y, columns=n_cells_x)        \n",
    "            print(f'robot {r}, area:{coverage_cells}')\n",
    "            intersection = list(set(coverage_cells).intersection(coverage))\n",
    "\n",
    "            # this is the amount of area that this robot is covering now.\n",
    "            area_this_robot = len(coverage_cells)\n",
    "\n",
    "            if area_this_robot >= current_area_this_robot:\n",
    "                this_robot_in_cell = c\n",
    "                current_area_this_robot = area_this_robot\n",
    "\n",
    "            if len(intersection) == 0 and area_this_robot == max_area_this_robot:\n",
    "                # this is a good solution for robot r\n",
    "                print('Nothing more to gain: empty intersection found and max area met.')\n",
    "                break\n",
    "\n",
    "        coverage += coverage_cells\n",
    "\n",
    "\n",
    "        # and saves the solution\n",
    "        cells.append(this_robot_in_cell)\n",
    "        rxc_matrix[c] = 1 \n",
    "    return cells\n",
    "    \n",
    "#   coverage_value=sum(coverage)"
   ]
  },
  {
   "cell_type": "code",
   "execution_count": 344,
   "metadata": {},
   "outputs": [
    {
     "name": "stdout",
     "output_type": "stream",
     "text": [
      "robot 0, area:[0, 1, 2, 3, 5, 6, 7, 8, 10, 11, 12, 13, 15, 16, 17, 18]\n",
      "Nothing more to gain: empty intersection found and max area met.\n",
      "robot 1, area:[0, 1, 2, 3, 4, 5, 6, 7, 8, 9, 10, 11, 12, 13, 14]\n",
      "robot 1, area:[1, 2, 3, 4, 6, 7, 8, 9, 11, 12, 13, 14]\n",
      "robot 1, area:[2, 3, 4, 7, 8, 9, 12, 13, 14]\n",
      "robot 1, area:[3, 4, 8, 9, 13, 14]\n",
      "robot 1, area:[4, 9, 14]\n",
      "robot 1, area:[5, 6, 7, 8, 9, 10, 11, 12, 13, 14, 15, 16, 17, 18, 19]\n",
      "robot 1, area:[6, 7, 8, 9, 11, 12, 13, 14, 16, 17, 18, 19]\n",
      "robot 1, area:[7, 8, 9, 12, 13, 14, 17, 18, 19]\n",
      "robot 1, area:[8, 9, 13, 14, 18, 19]\n",
      "robot 1, area:[9, 14, 19]\n",
      "robot 1, area:[10, 11, 12, 13, 14, 15, 16, 17, 18, 19, 20, 21, 22, 23, 24]\n",
      "robot 1, area:[11, 12, 13, 14, 16, 17, 18, 19, 21, 22, 23, 24]\n",
      "robot 1, area:[12, 13, 14, 17, 18, 19, 22, 23, 24]\n",
      "robot 1, area:[13, 14, 18, 19, 23, 24]\n",
      "robot 1, area:[14, 19, 24]\n",
      "robot 1, area:[15, 16, 17, 18, 19, 20, 21, 22, 23, 24]\n",
      "robot 1, area:[16, 17, 18, 19, 21, 22, 23, 24]\n",
      "robot 1, area:[17, 18, 19, 22, 23, 24]\n",
      "robot 1, area:[18, 19, 23, 24]\n",
      "robot 1, area:[19, 24]\n",
      "robot 1, area:[20, 21, 22, 23, 24]\n",
      "robot 1, area:[21, 22, 23, 24]\n",
      "robot 1, area:[22, 23, 24]\n",
      "robot 1, area:[23, 24]\n",
      "robot 1, area:[24]\n",
      "robot 2, area:[0, 5]\n",
      "robot 2, area:[1, 6]\n",
      "robot 2, area:[2, 7]\n",
      "robot 2, area:[3, 8]\n",
      "robot 2, area:[4, 9]\n",
      "Nothing more to gain: empty intersection found and max area met.\n"
     ]
    }
   ],
   "source": [
    "cells = find_solution(n_robots, n_cells, robot_area_coverage)"
   ]
  },
  {
   "cell_type": "code",
   "execution_count": 345,
   "metadata": {},
   "outputs": [
    {
     "data": {
      "text/plain": [
       "array([[1., 0., 0., 0., 0., 0., 0., 0., 0., 0., 0., 0., 0., 0., 0., 0.,\n",
       "        0., 0., 0., 0., 0., 0., 0., 0., 0., 0., 0., 0., 0., 0., 0., 0.,\n",
       "        0., 0., 0., 0., 0., 0., 0., 0., 0., 0., 0., 0., 0., 0., 0., 0.,\n",
       "        0., 0., 0., 0., 0., 0., 0., 0., 0., 0., 0., 0., 0., 0., 0., 0.,\n",
       "        0., 0., 0., 0., 0., 0., 0., 0., 0., 0., 0., 0., 0., 0., 0., 0.,\n",
       "        0., 0., 0., 0., 0., 0., 0., 0., 0., 0., 0., 0., 0., 0., 0., 0.,\n",
       "        0., 0., 0., 0.],\n",
       "       [0., 0., 0., 0., 0., 0., 0., 0., 0., 0., 0., 0., 0., 0., 0., 0.,\n",
       "        0., 0., 0., 0., 0., 0., 0., 0., 0., 0., 0., 0., 0., 0., 0., 0.,\n",
       "        0., 0., 0., 0., 0., 0., 0., 0., 0., 0., 0., 1., 0., 0., 0., 0.,\n",
       "        0., 0., 0., 0., 0., 0., 0., 0., 0., 0., 0., 0., 0., 0., 0., 0.,\n",
       "        0., 0., 0., 0., 0., 0., 0., 0., 0., 0., 0., 0., 0., 0., 0., 0.,\n",
       "        0., 0., 0., 0., 0., 0., 0., 0., 0., 0., 0., 0., 0., 0., 0., 0.,\n",
       "        0., 0., 0., 0.]])"
      ]
     },
     "execution_count": 345,
     "metadata": {},
     "output_type": "execute_result"
    }
   ],
   "source": [
    "rxc_matrix"
   ]
  },
  {
   "cell_type": "code",
   "execution_count": 346,
   "metadata": {},
   "outputs": [],
   "source": [
    "#cells, coverage"
   ]
  },
  {
   "cell_type": "code",
   "execution_count": 347,
   "metadata": {},
   "outputs": [],
   "source": [
    "#sum(np.ones(len(coverage)))"
   ]
  },
  {
   "cell_type": "code",
   "execution_count": 348,
   "metadata": {},
   "outputs": [
    {
     "data": {
      "image/png": "[encoded data removed]",
      "text/plain": [
       "<Figure size 432x288 with 1 Axes>"
      ]
     },
     "metadata": {
      "needs_background": "light"
     },
     "output_type": "display_data"
    }
   ],
   "source": [
    "fig = plt.figure()\n",
    "u.draw_paving(xmin, xmax, dx, ymin, ymax, dy, edgecolor='black', facecolor='green')\n",
    "\n",
    "\n",
    "r_colors = ['blue', 'magenta', 'cyan']\n",
    "\n",
    "for r in range(n_robots):\n",
    "    width =robot_area_coverage[r][0]\n",
    "    length=robot_area_coverage[r][1]\n",
    "    coverage_cells = coverageFromCell(cells[r], width=width, length=length, rows=n_cells_x, columns=n_cells_y)\n",
    "    for c in coverage_cells:\n",
    "        x, y = u.fromCellToXY(c, (xmin, xmax, dx), (ymin, ymax, dy))\n",
    "        u.draw_cell(x, y, dx, dy, edgecolor=r_colors[r], facecolor=r_colors[r])        \n",
    "\n"
   ]
  },
  {
   "cell_type": "markdown",
   "metadata": {},
   "source": [
    "# References "
   ]
  },
  {
   "cell_type": "markdown",
   "metadata": {},
   "source": [
    "1. [Total variation in-painting](https://www.cvxpy.org/examples/applications/tv_inpainting.html)\n",
    "2. [Cell tower coverage](http://examples.gurobi.com/cell-tower-coverage/)\n",
    "3. [Max coverage](https://github.com/njtierney/maxcovr)\n",
    "4. [cvxpy coverage](https://stackoverflow.com/questions/53333253/how-to-solve-a-facility-location-allocation-ip-problem-in-cvxpy)\n",
    "5. [Find optimal location for x,y coordinates](https://stackoverflow.com/questions/47147813/finding-the-optimized-location-for-a-list-of-coordinates-x-and-y)\n",
    "6. [What is CVXPY](https://www.cvxpy.org/tutorial/intro/index.html#parameters)\n",
    "7. [Solving the knapsack problem](https://medium.com/@fabianterh/how-to-solve-the-knapsack-problem-with-dynamic-programming-eb88c706d3cf)"
   ]
  },
  {
   "cell_type": "code",
   "execution_count": null,
   "metadata": {},
   "outputs": [],
   "source": []
  }
 ],
 "metadata": {
  "kernelspec": {
   "display_name": "Python 3",
   "language": "python",
   "name": "python3"
  },
  "language_info": {
   "codemirror_mode": {
    "name": "ipython",
    "version": 3
   },
   "file_extension": ".py",
   "mimetype": "text/x-python",
   "name": "python",
   "nbconvert_exporter": "python",
   "pygments_lexer": "ipython3",
   "version": "3.6.9"
  }
 },
 "nbformat": 4,
 "nbformat_minor": 2
}
