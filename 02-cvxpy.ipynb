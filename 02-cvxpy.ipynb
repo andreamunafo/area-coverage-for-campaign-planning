{
 "cells": [
  {
   "cell_type": "markdown",
   "metadata": {},
   "source": [
    "# Playing with cvxpy"
   ]
  },
  {
   "cell_type": "markdown",
   "metadata": {},
   "source": [
    "## Introductory remarks "
   ]
  },
  {
   "cell_type": "markdown",
   "metadata": {},
   "source": [
    "This notebook uses `cvxpy`, available from [cvxpy.org]( https://www.cvxpy.org/install/index.html).\n",
    "\n",
    "I have also installed `cvxopt` to make sure all the solvers that come packaged with cvxpy will work on my machine.\n",
    "\n",
    "On my computer all this is available in the conda environment: `csp`\n",
    "\n",
    "Some of this notebook relies on the GLPK_MI solver. This is a special solver designed for IP problems. \n",
    "\n",
    "\n",
    "To install GLPK (in /usr/local/):\n",
    "\n",
    "- Download the latest version of GLPK from the [gnu](http://www.gnu.org/software/glpk/#downloading) website.\n",
    "- `cd ~/Downloads`\n",
    "- `tar -xzf glpk-4.43.tar.gz`\n",
    "- `./configure -prefix=/usr/local`\n",
    "- `make`\n",
    "- `sudo make install`\n",
    "\n",
    "At this point, you should have GLPK installed. \n",
    "To verify run: \n",
    "- `which glpsol`  \n",
    "output: `/usr/local/bin/glpsol`\n",
    "\n",
    "\n",
    "Introduction using GLPK [here](http://www.ibm.com/developerworks/linux/library/l-glpk1)\n",
    "\n",
    "\n",
    "Good introduction to cvxpy is [integer-programming-in-python](https://towardsdatascience.com/integer-programming-in-python-1cbdfa240df2)\n",
    "\n",
    "\n",
    " Before you solve your own problem, consult this table to see which prepackaged cvpxy solver is best suited to your problem."
   ]
  },
  {
   "cell_type": "markdown",
   "metadata": {},
   "source": [
    "# The Knapsack Problem "
   ]
  },
  {
   "cell_type": "code",
   "execution_count": 1,
   "metadata": {},
   "outputs": [],
   "source": [
    "import cvxpy as cvx\n",
    "import numpy as np"
   ]
  },
  {
   "cell_type": "code",
   "execution_count": 2,
   "metadata": {},
   "outputs": [
    {
     "name": "stdout",
     "output_type": "stream",
     "text": [
      "1.0.25\n"
     ]
    }
   ],
   "source": [
    "print(cvx.__version__)"
   ]
  },
  {
   "cell_type": "code",
   "execution_count": 8,
   "metadata": {},
   "outputs": [
    {
     "data": {
      "text/plain": [
       "['CVXOPT', 'ECOS', 'ECOS_BB', 'GLPK', 'GLPK_MI', 'OSQP', 'SCS']"
      ]
     },
     "execution_count": 8,
     "metadata": {},
     "output_type": "execute_result"
    }
   ],
   "source": [
    "cvx.installed_solvers()"
   ]
  },
  {
   "cell_type": "code",
   "execution_count": 9,
   "metadata": {},
   "outputs": [],
   "source": [
    "# The data for the Knapsack problem\n",
    "# P is total weight capacity of sack\n",
    "# weights and utilities are also specified\n",
    "P = 165\n",
    "weights = np.array([23, 31, 29, 44, 53, 38, 63, 85, 89, 82])\n",
    "utilities = np.array([92, 57, 49, 68, 60, 43, 67, 84, 87, 72])\n",
    "\n",
    "# The variable we are solving for\n",
    "selection = cvx.Variable(len(weights), boolean=True)\n",
    "\n",
    "# The sum of the weights should be less than or equal to P\n",
    "weight_constraint = weights * selection <= P\n",
    "\n",
    "# Our total utility is the sum of the item utilities\n",
    "total_utility = utilities * selection"
   ]
  },
  {
   "cell_type": "code",
   "execution_count": 11,
   "metadata": {},
   "outputs": [],
   "source": [
    "# We tell cvxpy that we want to maximize total utility \n",
    "# subject to weight_constraint. All constraints in \n",
    "# cvxpy must be passed as a list\n",
    "knapsack_problem = cvx.Problem(cvx.Maximize(total_utility), [weight_constraint])\n"
   ]
  },
  {
   "cell_type": "code",
   "execution_count": 12,
   "metadata": {},
   "outputs": [
    {
     "data": {
      "text/plain": [
       "309.0"
      ]
     },
     "execution_count": 12,
     "metadata": {},
     "output_type": "execute_result"
    }
   ],
   "source": [
    "# Solving the problem\n",
    "knapsack_problem.solve(solver=cvx.GLPK_MI)"
   ]
  },
  {
   "cell_type": "code",
   "execution_count": 13,
   "metadata": {},
   "outputs": [
    {
     "name": "stdout",
     "output_type": "stream",
     "text": [
      "[1. 1. 1. 1. 0. 1. 0. 0. 0. 0.]\n"
     ]
    }
   ],
   "source": [
    "print(selection.value)"
   ]
  },
  {
   "cell_type": "markdown",
   "metadata": {},
   "source": [
    "# Area assignment"
   ]
  },
  {
   "cell_type": "code",
   "execution_count": 317,
   "metadata": {},
   "outputs": [],
   "source": [
    "import cvxpy as cvx\n",
    "import numpy as np\n",
    "import utils.utils as u\n",
    "import math as m\n",
    "from matplotlib import pylab as plt"
   ]
  },
  {
   "cell_type": "markdown",
   "metadata": {},
   "source": [
    "## Drawing and preps "
   ]
  },
  {
   "cell_type": "code",
   "execution_count": 318,
   "metadata": {},
   "outputs": [],
   "source": [
    "def draw_paving(xmin, xmax, dx, ymin, ymax, dy, edgecolor='black', facecolor='blue'):\n",
    "    x = np.arange(xmin, xmax, dx)\n",
    "    y = np.arange(ymin, ymax, dy)\n",
    "    xv, yv = np.meshgrid(x, y)    \n",
    "    for i in range(xv.shape[0]):\n",
    "        for j in range(yv.shape[1]):\n",
    "            u._draw_box(xv[i,j], xv[i,j]+dx, yv[i,j], yv[i,j]+dy, edgecolor=edgecolor, facecolor=facecolor)\n",
    "            \n",
    "def draw_cell(x, y, dx, dy, edgecolor='black', facecolor='blue'):\n",
    "    u._draw_box(x, x+dx, y, y+dy, edgecolor=edgecolor, facecolor=facecolor)"
   ]
  },
  {
   "cell_type": "code",
   "execution_count": 319,
   "metadata": {},
   "outputs": [],
   "source": [
    "xmin, xmax, dx = 0, 0.5, .1\n",
    "ymin, ymax, dy = 0, 1, .1"
   ]
  },
  {
   "cell_type": "code",
   "execution_count": 320,
   "metadata": {},
   "outputs": [
    {
     "data": {
      "image/png": "[encoded data removed]",
      "text/plain": [
       "<Figure size 432x288 with 1 Axes>"
      ]
     },
     "metadata": {
      "needs_background": "light"
     },
     "output_type": "display_data"
    }
   ],
   "source": [
    "draw_paving(xmin, xmax, dx, ymin, ymax, dy, edgecolor='black', facecolor='green')\n",
    "draw_cell(0.25, 0.2, 0.1, 0.1, edgecolor='blue', facecolor='blue')"
   ]
  },
  {
   "cell_type": "code",
   "execution_count": 321,
   "metadata": {},
   "outputs": [],
   "source": [
    "# draws the allocation on the map\n",
    "def draw_allocation(rxc_matrix, n_cells, n_robots):\n",
    "    for r_idx in range(0, n_robots):\n",
    "        m_dy = -dy       \n",
    "        for c_idx in range(0, n_cells):    \n",
    "            m_dx = dx*(c_idx % round((xmax-xmin)/dx))\n",
    "            if (c_idx % round((xmax-xmin)/dx) == 0):    \n",
    "                m_dy += dy*1            \n",
    "            if rxc_matrix[r_idx][c_idx] == 1:            \n",
    "                draw_cell(xmin+m_dx, ymin+m_dy, dx, dy, edgecolor=r_colors[r_idx], facecolor=r_colors[r_idx])            "
   ]
  },
  {
   "cell_type": "code",
   "execution_count": 322,
   "metadata": {},
   "outputs": [
    {
     "data": {
      "image/png": "[encoded data removed]",
      "text/plain": [
       "<Figure size 432x288 with 1 Axes>"
      ]
     },
     "metadata": {
      "needs_background": "light"
     },
     "output_type": "display_data"
    }
   ],
   "source": [
    "rxc_matrix = np.zeros((2, 100))\n",
    "rxc_matrix[0,0] = 1\n",
    "rxc_matrix[1,43] = 1\n",
    "\n",
    "\n",
    "r_colors = ['blue', 'magenta', 'cyan']\n",
    "draw_paving(xmin, xmax, dx, ymin, ymax, dy, edgecolor='black', facecolor='green')\n",
    "draw_allocation(rxc_matrix, n_cells=100, n_robots=2)           "
   ]
  },
  {
   "cell_type": "code",
   "execution_count": 323,
   "metadata": {},
   "outputs": [],
   "source": [
    "def fromCellToXY(c, x_lim, y_lim):\n",
    "    \"\"\"fromCellToXY:\n",
    "       c: cell number,\n",
    "       x_lim: (xmin, xmax, dx),\n",
    "       y_lim: (ymin, ymax, dy),\n",
    "    \"\"\"\n",
    "    xmin, xmax, dx = x_lim\n",
    "    ymin, ymax, dy = y_lim    \n",
    "    \n",
    "    Area = (xmax-xmin)*(ymax-ymin)\n",
    "    n_cells = round(Area/(dx*dy))\n",
    "    n_cells_x = round((xmax-xmin)/dx)\n",
    "    n_cells_y = round((ymax-ymin)/dy)\n",
    "\n",
    "    assert n_cells == n_cells_x*n_cells_y, f\"n_cells:{n_cells}, n_cells_x:{n_cells_x}, n_cells_y:{n_cells_y}\"\n",
    "    \n",
    "    x = (xmax-xmin)*(c%n_cells_x)/n_cells_x   # x:(xmax-xmin)=c:n_cells   \n",
    "    y = (ymax-ymin)*np.floor(c/n_cells_x)/n_cells_y\n",
    "    \n",
    "    return x, y\n",
    "\n",
    "\n",
    "def fromXYToCell(x, y, x_lim, y_lim):\n",
    "    \"\"\"fromCellToXY:\n",
    "       x, y: cell position,\n",
    "       x_lim: (xmin, xmax, dx),\n",
    "       y_lim: (ymin, ymax, dy),\n",
    "    \"\"\"\n",
    "    xmin, xmax, dx = x_lim\n",
    "    ymin, ymax, dy = y_lim    \n",
    "    \n",
    "    Area = (xmax-xmin)*(ymax-ymin)\n",
    "    n_cells = round(Area/(dx*dy))\n",
    "    n_cells_x = round((xmax-xmin)/dx)\n",
    "    n_cells_y = round((ymax-ymin)/dy)\n",
    "    \n",
    "    dY = np.floor(y*n_cells_y/(ymax-ymin))*n_cells_x\n",
    "    c = int(np.floor(n_cells_x*x/(xmax-xmin)) + dY)\n",
    "\n",
    "    return c"
   ]
  },
  {
   "cell_type": "code",
   "execution_count": 324,
   "metadata": {},
   "outputs": [
    {
     "data": {
      "image/png": "[encoded data removed]",
      "text/plain": [
       "<Figure size 432x288 with 1 Axes>"
      ]
     },
     "metadata": {
      "needs_background": "light"
     },
     "output_type": "display_data"
    }
   ],
   "source": [
    "fig = plt.figure()\n",
    "n_cells = 50\n",
    "draw_paving(xmin, xmax, dx, ymin, ymax, dy, edgecolor='black', facecolor='green')\n",
    "for c in range(0, n_cells):    \n",
    "    x, y = fromCellToXY(c, (xmin, xmax, dx), (ymin, ymax, dy))\n",
    "    plt.plot(x, y, marker='.', markersize=12, color='black')\n",
    "    plt.gca().text(x+dx/2, y+dy/2, str(c))"
   ]
  },
  {
   "cell_type": "code",
   "execution_count": 325,
   "metadata": {},
   "outputs": [
    {
     "data": {
      "image/png": "[encoded data removed]",
      "text/plain": [
       "<Figure size 432x288 with 1 Axes>"
      ]
     },
     "metadata": {
      "needs_background": "light"
     },
     "output_type": "display_data"
    }
   ],
   "source": [
    "fig = plt.figure()\n",
    "n_cells = 100\n",
    "draw_paving(xmin, xmax, dx, ymin, ymax, dy, edgecolor='black', facecolor='green')\n",
    "for x in np.arange(xmin, xmax, dx):\n",
    "    for y in np.arange(ymin, ymax, dy):\n",
    "        c = fromXYToCell(x, y, (xmin, xmax, dx), (ymin, ymax, dy))\n",
    "        x, y = fromCellToXY(c, (xmin, xmax, dx), (ymin, ymax, dy))\n",
    "        plt.plot(x, y, marker='.', markersize=12, color='black')\n",
    "        plt.gca().text(x+dx/2, y+dy/2, str(c))"
   ]
  },
  {
   "cell_type": "code",
   "execution_count": 326,
   "metadata": {},
   "outputs": [],
   "source": [
    "def coverageFromXY(x, y, width, length, x_lim, y_lim):\n",
    "    \"\"\"coverageat(x, y, width, length, x_lim, y_lim)\n",
    "        input:\n",
    "          x, y: coordinate of the lower left corner of the coverage area\n",
    "          width, length: width and length of the coverage area\n",
    "          x_lim: (xmin, xmax, dx)\n",
    "          y_lim: (ymin, ymax, dy) \n",
    "    \"\"\"    \n",
    "    xmin, xmax, dx = x_lim\n",
    "    ymin, ymax, dy = y_lim    \n",
    "    \n",
    "    assert x >= xmin and x <= xmax\n",
    "    assert y >= ymin and y <= ymax\n",
    "    \n",
    "    cells = []\n",
    "    cells.append(fromXYToCell(x, y, x_lim, y_lim))\n",
    "    cells.append(fromXYToCell(min(x+width, xmax-dx), y, x_lim, y_lim))\n",
    "    cells.append(fromXYToCell(x, min(y+length, ymax-dy), x_lim, y_lim))    \n",
    "    cells.append(fromXYToCell(min(x+width, xmax-dx), min(y+length, ymax-dx), x_lim, y_lim))\n",
    "    \n",
    "    return set(cells)"
   ]
  },
  {
   "cell_type": "code",
   "execution_count": 327,
   "metadata": {},
   "outputs": [
    {
     "name": "stdout",
     "output_type": "stream",
     "text": [
      "{3, 4, 13, 14}\n"
     ]
    }
   ],
   "source": [
    "cells = coverageFromXY(x=0.3, y=0.0, width=2*dx, length=2*dy, x_lim=(xmin, xmax, dx), y_lim=(ymin, ymax, dy) )\n",
    "print(cells)"
   ]
  },
  {
   "cell_type": "code",
   "execution_count": 330,
   "metadata": {},
   "outputs": [],
   "source": [
    "def coverageFromCell(c, width, length, rows, columns):\n",
    "    \"\"\"coverageat(c, width, length, x_lim, y_lim)\n",
    "        input:\n",
    "          c: cell number (bottom left point of the coverage area)\n",
    "          width, length: width and length of the coverage area in number of cells\n",
    "          rows, columns: number of rows and columns of the matrix representing the coverage area.\n",
    "    \"\"\"  \n",
    "    \n",
    "    n_cells = rows*columns\n",
    "    assert c <= n_cells, f\"cell number {c} must be less than {rows*columns}\"\n",
    "    \n",
    "    coverage_cells = [c]\n",
    "    xcells = list(range(c%columns, min(c%columns+width, columns)))\n",
    "    ycells = list(range(c%columns+columns, length*columns, columns))\n",
    "    \n",
    "    for xc in xcells:\n",
    "        ycells += list(range(xc+columns, length*columns, columns))\n",
    "        \n",
    "    xcells = list(c-c%columns+np.array(xcells))\n",
    "    ycells = list(c-c%columns+np.array(ycells))\n",
    "\n",
    "    coverage_cells+=xcells\n",
    "    coverage_cells+=ycells\n",
    "    \n",
    "    coverage_cells = [c for c in coverage_cells if c < n_cells]\n",
    "    return list(np.unique(coverage_cells))"
   ]
  },
  {
   "cell_type": "code",
   "execution_count": 331,
   "metadata": {},
   "outputs": [
    {
     "name": "stdout",
     "output_type": "stream",
     "text": [
      "coverage: [45, 46, 47]\n"
     ]
    },
    {
     "data": {
      "image/png": "[encoded data removed]",
      "text/plain": [
       "<Figure size 432x288 with 1 Axes>"
      ]
     },
     "metadata": {
      "needs_background": "light"
     },
     "output_type": "display_data"
    }
   ],
   "source": [
    "columns = round((xmax-xmin)/dx)\n",
    "rows    = round((ymax-ymin)/dy)\n",
    "coverage_cells = coverageFromCell(45, width=3, length=2, rows=rows, columns=columns)\n",
    "\n",
    "print(f'coverage: {coverage_cells}')\n",
    "\n",
    "fig = plt.figure()\n",
    "n_cells = 100\n",
    "draw_paving(xmin, xmax, dx, ymin, ymax, dy, edgecolor='black', facecolor='green')\n",
    "for c in coverage_cells:\n",
    "        x, y = fromCellToXY(c, (xmin, xmax, dx), (ymin, ymax, dy))\n",
    "        draw_cell(x, y, dx, dy, edgecolor='blue', facecolor='blue')        \n"
   ]
  },
  {
   "cell_type": "markdown",
   "metadata": {},
   "source": [
    "## Solving the problem "
   ]
  },
  {
   "cell_type": "code",
   "execution_count": 28,
   "metadata": {},
   "outputs": [],
   "source": [
    "xmin, xmax, dx = 0, 1., 0.2\n",
    "ymin, ymax, dy = 0, 1., 0.2"
   ]
  },
  {
   "cell_type": "code",
   "execution_count": 29,
   "metadata": {},
   "outputs": [
    {
     "name": "stdout",
     "output_type": "stream",
     "text": [
      "Area     : 1.0\n",
      "n.cells  : 25\n",
      "n.robots : 3\n"
     ]
    }
   ],
   "source": [
    "Area = (xmax-xmin)*(ymax-ymin)\n",
    "n_cells = round(Area/(dx*dy))\n",
    "\n",
    "mapr = np.array([.15, .6, .4])  # max area per each robot\n",
    "n_robots = len(mapr)\n",
    "\n",
    "\n",
    "print(f'Area     : {Area}')\n",
    "print(f'n.cells  : {n_cells}')\n",
    "print(f'n.robots : {n_robots}')\n",
    "\n",
    "# robot_0 = cvx.Variable(n_cells, name='robot_0', boolean=True)\n",
    "# robot_1 = cvx.Variable(n_cells, name='robot_1', boolean=True)\n",
    "# rxc_matrix = np.vstack((robot_0,robot_1))\n",
    "\n",
    "rxc_matrix = cvx.Variable((n_robots, n_cells), name='rxc_matrix', boolean=True)"
   ]
  },
  {
   "cell_type": "code",
   "execution_count": 30,
   "metadata": {},
   "outputs": [],
   "source": [
    "# a few tests\n",
    "# p_rxc_matrix = cvx.Parameter((n_robots, n_cells), name='p_rxc_matrix', boolean=True)\n",
    "# p_rxc_matrix.value = np.ones((n_robots, n_cells))\n",
    "\n",
    "# print(p_rxc_matrix.value)\n",
    "\n",
    "# print(rxc_matrix[1,:])\n",
    "# print(rxc_matrix.shape)\n",
    "# print(sum(p_rxc_matrix[0,:]).value)\n",
    "# round(mapr[0]*n_cells), round(mapr[1]*n_cells)"
   ]
  },
  {
   "cell_type": "markdown",
   "metadata": {},
   "source": [
    "### Define the constraints"
   ]
  },
  {
   "cell_type": "code",
   "execution_count": 31,
   "metadata": {},
   "outputs": [],
   "source": [
    "constraints = [sum(rxc_matrix[0,:]) <= round(mapr[0]*n_cells),  #(sum of column)\n",
    "              sum(rxc_matrix[1,:]) <= round(mapr[1]*n_cells)              \n",
    "             ]\n",
    "\n",
    "for i in range(rxc_matrix.shape[1]):\n",
    "    constraints.append(sum(rxc_matrix[:,i]) <= 1)"
   ]
  },
  {
   "cell_type": "code",
   "execution_count": 32,
   "metadata": {},
   "outputs": [],
   "source": [
    "# constraints"
   ]
  },
  {
   "cell_type": "markdown",
   "metadata": {},
   "source": [
    "### Define the objective function"
   ]
  },
  {
   "cell_type": "code",
   "execution_count": 33,
   "metadata": {},
   "outputs": [],
   "source": [
    "# Our total utility is the area that we cover\n",
    "total_utility = cvx.sum(rxc_matrix) #- cvx.tv(rxc_matrix)"
   ]
  },
  {
   "cell_type": "markdown",
   "metadata": {},
   "source": [
    "### Run the solver"
   ]
  },
  {
   "cell_type": "code",
   "execution_count": 34,
   "metadata": {},
   "outputs": [],
   "source": [
    "# We tell cvxpy that we want to maximize total utility \n",
    "# subject to weight_constraint. All constraints in \n",
    "# cvxpy must be passed as a list\n",
    "area_problem = cvx.Problem(cvx.Maximize(total_utility), constraints)"
   ]
  },
  {
   "cell_type": "code",
   "execution_count": 35,
   "metadata": {},
   "outputs": [
    {
     "name": "stdout",
     "output_type": "stream",
     "text": [
      "optimal objective value: 25.0\n"
     ]
    }
   ],
   "source": [
    "# Solving the problem\n",
    "area_problem.solve(solver=cvx.GLPK_MI)\n",
    "#area_problem.solve(solver=cvx.ECOS)\n",
    "print(\"optimal objective value: {}\".format(area_problem.value))"
   ]
  },
  {
   "cell_type": "code",
   "execution_count": 36,
   "metadata": {},
   "outputs": [
    {
     "name": "stdout",
     "output_type": "stream",
     "text": [
      "Solution: \n",
      "[[1. 1. 1. 1. 0. 0. 0. 0. 0. 0. 0. 0. 0. 0. 0. 0. 0. 0. 0. 0. 0. 0. 0. 0.\n",
      "  0.]\n",
      " [0. 0. 0. 0. 1. 1. 1. 1. 1. 1. 1. 1. 1. 1. 1. 1. 1. 1. 1. 0. 0. 0. 0. 0.\n",
      "  0.]\n",
      " [0. 0. 0. 0. 0. 0. 0. 0. 0. 0. 0. 0. 0. 0. 0. 0. 0. 0. 0. 1. 1. 1. 1. 1.\n",
      "  1.]]\n"
     ]
    }
   ],
   "source": [
    "print('Solution: ')\n",
    "print(rxc_matrix.value)"
   ]
  },
  {
   "cell_type": "code",
   "execution_count": 37,
   "metadata": {},
   "outputs": [
    {
     "data": {
      "image/png": "[encoded data removed]",
      "text/plain": [
       "<Figure size 432x288 with 1 Axes>"
      ]
     },
     "metadata": {
      "needs_background": "light"
     },
     "output_type": "display_data"
    }
   ],
   "source": [
    "r_colors = ['blue', 'magenta', 'cyan']\n",
    "draw_paving(xmin, xmax, dx, ymin, ymax, dy, edgecolor='black', facecolor='green')\n",
    "draw_allocation(rxc_matrix.value, n_cells=n_cells, n_robots=n_robots)           "
   ]
  },
  {
   "cell_type": "markdown",
   "metadata": {},
   "source": [
    "# Greedy algorithm"
   ]
  },
  {
   "cell_type": "code",
   "execution_count": 369,
   "metadata": {},
   "outputs": [],
   "source": [
    "n_robots = 3\n",
    "robot_area_coverage = [[4, 4, 0],  # width, length, rotation\n",
    "                       [5, 3, 0],\n",
    "                       [1, 2, 0]]\n",
    "\n",
    "\n",
    "xmin, xmax, dx = 0, 1., 0.2\n",
    "ymin, ymax, dy = 0, 1., 0.2\n",
    "\n",
    "Area = (xmax-xmin)*(ymax-ymin)\n",
    "n_cells = round(Area/(dx*dy))\n",
    "n_cells_x = round((xmax-xmin)/dx)\n",
    "n_cells_y = round((ymax-ymin)/dy)"
   ]
  },
  {
   "cell_type": "markdown",
   "metadata": {},
   "source": [
    "## Finds the (sub)optimal allocation"
   ]
  },
  {
   "cell_type": "code",
   "execution_count": 370,
   "metadata": {},
   "outputs": [],
   "source": [
    "def find_solution(n_robots, n_cells, robot_area_coverage):\n",
    "    coverage = []\n",
    "    cells = []\n",
    "    rxc_matrix = np.zeros(n_cells)\n",
    "    max_robot_area_coverage_value = 0\n",
    "\n",
    "    for r in range(n_robots):\n",
    "        min_intersection = list(range(n_cells)) # max number\n",
    "        width=robot_area_coverage[r][0]\n",
    "        length=robot_area_coverage[r][1]\n",
    "        max_area_this_robot = width*length\n",
    "        current_area_this_robot = 0\n",
    "\n",
    "        for c in range(n_cells):\n",
    "            coverage_cells = coverageFromCell(c, width=width, length=length, rows=n_cells_y, columns=n_cells_x)        \n",
    "            print(f'robot {r}, area:{coverage_cells}')\n",
    "            intersection = list(set(coverage_cells).intersection(coverage))\n",
    "\n",
    "            # this is the amount of area that this robot is covering now.\n",
    "            area_this_robot = len(coverage_cells)\n",
    "\n",
    "            if area_this_robot >= current_area_this_robot:\n",
    "                this_robot_in_cell = c\n",
    "                current_area_this_robot = area_this_robot\n",
    "\n",
    "            if len(intersection) == 0 and area_this_robot == max_area_this_robot:\n",
    "                # this is a good solution for robot r\n",
    "                print('Nothing more to gain: empty intersection found and max area met.')\n",
    "                break\n",
    "\n",
    "        coverage += coverage_cells\n",
    "\n",
    "\n",
    "        # and saves the solution\n",
    "        cells.append(this_robot_in_cell)\n",
    "        rxc_matrix[c] = 1 \n",
    "    return cells\n",
    "    \n",
    "#   coverage_value=sum(coverage)"
   ]
  },
  {
   "cell_type": "code",
   "execution_count": 371,
   "metadata": {},
   "outputs": [
    {
     "name": "stdout",
     "output_type": "stream",
     "text": [
      "robot 0, area:[0, 1, 2, 3, 5, 6, 7, 8, 10, 11, 12, 13, 15, 16, 17, 18]\n",
      "Nothing more to gain: empty intersection found and max area met.\n",
      "robot 1, area:[0, 1, 2, 3, 4, 5, 6, 7, 8, 9, 10, 11, 12, 13, 14]\n",
      "robot 1, area:[1, 2, 3, 4, 6, 7, 8, 9, 11, 12, 13, 14]\n",
      "robot 1, area:[2, 3, 4, 7, 8, 9, 12, 13, 14]\n",
      "robot 1, area:[3, 4, 8, 9, 13, 14]\n",
      "robot 1, area:[4, 9, 14]\n",
      "robot 1, area:[5, 6, 7, 8, 9, 10, 11, 12, 13, 14, 15, 16, 17, 18, 19]\n",
      "robot 1, area:[6, 7, 8, 9, 11, 12, 13, 14, 16, 17, 18, 19]\n",
      "robot 1, area:[7, 8, 9, 12, 13, 14, 17, 18, 19]\n",
      "robot 1, area:[8, 9, 13, 14, 18, 19]\n",
      "robot 1, area:[9, 14, 19]\n",
      "robot 1, area:[10, 11, 12, 13, 14, 15, 16, 17, 18, 19, 20, 21, 22, 23, 24]\n",
      "robot 1, area:[11, 12, 13, 14, 16, 17, 18, 19, 21, 22, 23, 24]\n",
      "robot 1, area:[12, 13, 14, 17, 18, 19, 22, 23, 24]\n",
      "robot 1, area:[13, 14, 18, 19, 23, 24]\n",
      "robot 1, area:[14, 19, 24]\n",
      "robot 1, area:[15, 16, 17, 18, 19, 20, 21, 22, 23, 24]\n",
      "robot 1, area:[16, 17, 18, 19, 21, 22, 23, 24]\n",
      "robot 1, area:[17, 18, 19, 22, 23, 24]\n",
      "robot 1, area:[18, 19, 23, 24]\n",
      "robot 1, area:[19, 24]\n",
      "robot 1, area:[20, 21, 22, 23, 24]\n",
      "robot 1, area:[21, 22, 23, 24]\n",
      "robot 1, area:[22, 23, 24]\n",
      "robot 1, area:[23, 24]\n",
      "robot 1, area:[24]\n",
      "robot 2, area:[0, 5]\n",
      "robot 2, area:[1, 6]\n",
      "robot 2, area:[2, 7]\n",
      "robot 2, area:[3, 8]\n",
      "robot 2, area:[4, 9]\n",
      "Nothing more to gain: empty intersection found and max area met.\n"
     ]
    }
   ],
   "source": [
    "cells = find_solution(n_robots, n_cells, robot_area_coverage)"
   ]
  },
  {
   "cell_type": "code",
   "execution_count": 372,
   "metadata": {},
   "outputs": [
    {
     "data": {
      "text/plain": [
       "array([1., 0., 0., 0., 0., 0., 0., 0., 0., 0., 0., 0., 0., 0., 0., 0., 0.,\n",
       "       0., 0., 0., 0., 0., 0., 0., 1.])"
      ]
     },
     "execution_count": 372,
     "metadata": {},
     "output_type": "execute_result"
    }
   ],
   "source": [
    "rxc_matrix"
   ]
  },
  {
   "cell_type": "code",
   "execution_count": 373,
   "metadata": {},
   "outputs": [
    {
     "data": {
      "text/plain": [
       "([0, 10, 4], [0, 1, 2, 3, 5, 6, 7, 8, 10, 11, 12, 13, 15, 16, 17, 18, 24])"
      ]
     },
     "execution_count": 373,
     "metadata": {},
     "output_type": "execute_result"
    }
   ],
   "source": [
    "cells, coverage"
   ]
  },
  {
   "cell_type": "code",
   "execution_count": 374,
   "metadata": {},
   "outputs": [
    {
     "data": {
      "text/plain": [
       "17.0"
      ]
     },
     "execution_count": 374,
     "metadata": {},
     "output_type": "execute_result"
    }
   ],
   "source": [
    "sum(np.ones(len(coverage)))"
   ]
  },
  {
   "cell_type": "code",
   "execution_count": 376,
   "metadata": {},
   "outputs": [
    {
     "data": {
      "image/png": "[encoded data removed]",
      "text/plain": [
       "<Figure size 432x288 with 1 Axes>"
      ]
     },
     "metadata": {
      "needs_background": "light"
     },
     "output_type": "display_data"
    }
   ],
   "source": [
    "fig = plt.figure()\n",
    "draw_paving(xmin, xmax, dx, ymin, ymax, dy, edgecolor='black', facecolor='green')\n",
    "\n",
    "\n",
    "r_colors = ['blue', 'magenta', 'cyan']\n",
    "\n",
    "for r in range(n_robots):\n",
    "    width =robot_area_coverage[r][0]\n",
    "    length=robot_area_coverage[r][1]\n",
    "    coverage_cells = coverageFromCell(cells[r], width=width, length=length, rows=n_cells_x, columns=n_cells_y)\n",
    "    for c in coverage_cells:\n",
    "        x, y = fromCellToXY(c, (xmin, xmax, dx), (ymin, ymax, dy))\n",
    "        draw_cell(x, y, dx, dy, edgecolor=r_colors[r], facecolor=r_colors[r])        \n",
    "\n"
   ]
  },
  {
   "cell_type": "markdown",
   "metadata": {},
   "source": [
    "# References "
   ]
  },
  {
   "cell_type": "markdown",
   "metadata": {},
   "source": [
    "1. [Total variation in-painting](https://www.cvxpy.org/examples/applications/tv_inpainting.html)\n",
    "2. [Cell tower coverage](http://examples.gurobi.com/cell-tower-coverage/)\n",
    "3. [Max coverage](https://github.com/njtierney/maxcovr)\n",
    "4. [cvxpy coverage](https://stackoverflow.com/questions/53333253/how-to-solve-a-facility-location-allocation-ip-problem-in-cvxpy)\n",
    "5. [Find optimal location for x,y coordinates](https://stackoverflow.com/questions/47147813/finding-the-optimized-location-for-a-list-of-coordinates-x-and-y)\n",
    "6. [What is CVXPY](https://www.cvxpy.org/tutorial/intro/index.html#parameters)"
   ]
  },
  {
   "cell_type": "code",
   "execution_count": null,
   "metadata": {},
   "outputs": [],
   "source": []
  }
 ],
 "metadata": {
  "kernelspec": {
   "display_name": "Python 3",
   "language": "python",
   "name": "python3"
  },
  "language_info": {
   "codemirror_mode": {
    "name": "ipython",
    "version": 3
   },
   "file_extension": ".py",
   "mimetype": "text/x-python",
   "name": "python",
   "nbconvert_exporter": "python",
   "pygments_lexer": "ipython3",
   "version": "3.6.9"
  }
 },
 "nbformat": 4,
 "nbformat_minor": 2
}
